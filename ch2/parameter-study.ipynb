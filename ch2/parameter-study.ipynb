{
 "cells": [
  {
   "cell_type": "code",
   "execution_count": 1,
   "id": "71fd9ab1-4f6f-4551-8074-4ce84912d701",
   "metadata": {},
   "outputs": [],
   "source": [
    "import numpy as np\n",
    "from enum import Enum\n",
    "from typing import Tuple\n",
    "from collections import namedtuple\n",
    "from abc import ABC, abstractmethod"
   ]
  },
  {
   "cell_type": "code",
   "execution_count": 35,
   "id": "6e611654-e37b-4be0-8904-b010e9b6a93e",
   "metadata": {},
   "outputs": [],
   "source": [
    "Rewards = namedtuple('Rewards', ['value', 'optimal'])\n",
    "class TestbedType(Enum):\n",
    "    STATIONARY = 0\n",
    "    NON_STATIONARY = 1\n",
    "\n",
    "class Testbed():\n",
    "    def __init__(self, testbedType: TestbedType = TestbedType.STATIONARY, offset:int = 0, problems: int = 2000, arms: int = 10):\n",
    "        self._type=testbedType\n",
    "        self._offset=offset\n",
    "        self._q = np.random.normal(offset, 1, (problems, arms))\n",
    "        self._optimals = np.argmax(self._q, axis=1)\n",
    "\n",
    "    def get_rewards(self, action: np.array) -> Rewards:\n",
    "        # use property of normal distribution here: N(a, 1) = a + N(0, 1)\n",
    "        reward_constant = np.take_along_axis(self._q, action[:, None], axis=1).flatten()\n",
    "        reward_noise = np.random.normal(0, 1, action.shape[0])\n",
    "        final_reward = reward_constant + reward_noise\n",
    "        \n",
    "        ret = Rewards(value=final_reward, optimal=self._optimals)\n",
    "        if (self._type == TestbedType.NON_STATIONARY):\n",
    "            self._q += np.random.normal(0, 0.01, self._q.shape)\n",
    "            self._optimals = np.argmax(self._q, axis=1)\n",
    "\n",
    "        return ret\n"
   ]
  },
  {
   "cell_type": "code",
   "execution_count": 36,
   "id": "af6b05ee-cc96-4748-af5a-9555b0b5a140",
   "metadata": {},
   "outputs": [],
   "source": [
    "class Agent(ABC):\n",
    "    def __init__(self, time:int):\n",
    "        self._average_reward=np.zeros(time)\n",
    "        self._percent_optimal=np.zeros(time)\n",
    "\n",
    "    @abstractmethod\n",
    "    def get_next_actions(self) -> np.array:\n",
    "        pass\n",
    "\n",
    "    @abstractmethod\n",
    "    def process_rewards(self, rewards: Rewards) -> None:\n",
    "        pass\n",
    "        \n",
    "    def get_average_rewards(self) -> np.array:\n",
    "        return self._average_reward\n",
    "\n",
    "    def get_percent_optimal_actions(self) -> np.array:\n",
    "        return self._percent_optimal\n",
    "    "
   ]
  },
  {
   "cell_type": "code",
   "execution_count": 37,
   "id": "6e1f3fa3-5c86-4a96-aee8-109ae9ecdf5a",
   "metadata": {},
   "outputs": [],
   "source": [
    "class EGreedySampleAverage(Agent):\n",
    "    def __init__(self, time:int, e: np.float64, problems: int = 2000, arms: int = 10):\n",
    "        super().__init__(time)\n",
    "        self._e: np.float64 = e\n",
    "        self._problems: int = problems\n",
    "        self._arms: int = arms\n",
    "        \n",
    "        self._action_counts: np.array = np.zeros((problems, arms))\n",
    "        self._estimates: np.array = np.zeros((problems, arms))\n",
    "\n",
    "        #self._preselected_randoms: np.array = np.random.randint(0, arms, (time, problems))\n",
    "        #self._preselected_coinflips: np.array = np.random.binomial(1, e, (time, problems))\n",
    "\n",
    "        self._step = 0\n",
    "        self._recieved_rewards = True\n",
    "\n",
    "        self._current_actions: np.array = np.zeros(arms, dtype=int)\n",
    "\n",
    "        \n",
    "\n",
    "    def get_next_actions(self) -> np.array:\n",
    "        if not self._recieved_rewards:\n",
    "            return self._current_actions\n",
    "        \n",
    "        greedy = np.argmax(self._estimates, axis=1)\n",
    "        random = np.random.randint(0, self._arms, self._problems)\n",
    "\n",
    "        # flip a biased coin for each problem, to either pick greedy (0) or random (1)\n",
    "        coinflip = np.random.binomial(1, self._e, self._problems)\n",
    "\n",
    "        # pick outputs based on coinflip result\n",
    "        self._current_actions = np.where(coinflip, greedy, random)\n",
    "        \n",
    "        # don't re-generate actions if no reward recieved yet\n",
    "        self._recieved_rewards = False\n",
    "        return self._current_actions\n",
    "        \n",
    "        #return np.where(self._preselected_coinflips[self._step], greedy, self._preselected_randoms[self._step])\n",
    "    \n",
    "    def process_rewards(self, rewards: Rewards) -> None:\n",
    "        self._action_counts[np.arange(self._problems), self._current_actions] += 1\n",
    "\n",
    "        # Q_n+1 = Qn + 1/N*(Rn - Qn)\n",
    "        self._estimates[np.arange(self._problems), self._current_actions] += \\\n",
    "            (1/self._action_counts[np.arange(self._problems), self._current_actions]) * \\\n",
    "            (rewards.value - self._estimates[np.arange(self._problems), self._current_actions])\n",
    "\n",
    "        # set averages\n",
    "        self._average_reward[self._step] = np.mean(rewards.value)\n",
    "        self._percent_optimal[self._step] = np.mean(rewards.optimal == self._current_actions)\n",
    "\n",
    "        self._recieved_rewards = True\n",
    "        self._step += 1\n",
    "\n",
    "\n",
    "\n",
    "        \n",
    "    \n",
    "        "
   ]
  },
  {
   "cell_type": "code",
   "execution_count": 45,
   "id": "f7d07856-f1ae-426a-b35c-fcca11ab7ffa",
   "metadata": {},
   "outputs": [
    {
     "name": "stdout",
     "output_type": "stream",
     "text": [
      "CPU times: user 13.7 s, sys: 0 ns, total: 13.7 s\n",
      "Wall time: 13.7 s\n"
     ]
    }
   ],
   "source": [
    "%%time\n",
    "agent = EGreedySampleAverage(time=int(1e5), e=np.float64(0.01))\n",
    "testbed = Testbed()\n",
    "for i in range(100000):\n",
    "    actions = agent.get_next_actions()\n",
    "    agent.process_rewards(testbed.get_rewards(actions))\n",
    "    \n",
    "    "
   ]
  },
  {
   "cell_type": "code",
   "execution_count": 46,
   "id": "6cb1489d-3b94-40f0-b41f-5779afe055bb",
   "metadata": {},
   "outputs": [
    {
     "data": {
      "text/plain": [
       "<matplotlib.legend.Legend at 0xffff8003b550>"
      ]
     },
     "execution_count": 46,
     "metadata": {},
     "output_type": "execute_result"
    },
    {
     "data": {
      "image/png": "[encoded data removed]",
      "text/plain": [
       "<Figure size 640x480 with 1 Axes>"
      ]
     },
     "metadata": {},
     "output_type": "display_data"
    }
   ],
   "source": [
    "import matplotlib.pyplot as plt\n",
    "# Define colors for each epsilon value\n",
    "colors = ['green', 'red', 'blue']\n",
    "\n",
    "# Plot average reward for each epsilon\n",
    "plt.plot(agent.get_average_rewards(), label=f'epsilon=0.01', color='green', linewidth=0.5)\n",
    "    \n",
    "# plt.text(0, 1.4, f'$\\epsilon$={0.1}', \n",
    "#          color='blue', fontsize=10, verticalalignment='center')\n",
    "\n",
    "# plt.text(800, 1.2, f'$\\epsilon$={0.01}', \n",
    "#          color='red', fontsize=10, verticalalignment='center')\n",
    "\n",
    "# plt.text(500, 0.92, f'$\\epsilon$={0} (greedy)', \n",
    "#          color='green', fontsize=10, verticalalignment='center')\n",
    "\n",
    "\n",
    "# Add labels and title\n",
    "plt.xlabel('Steps')\n",
    "plt.ylabel('Average Reward')\n",
    "plt.title('Average Reward for Different Epsilon Values')\n",
    "plt.legend()"
   ]
  },
  {
   "cell_type": "code",
   "execution_count": 11,
   "id": "c812a520-ef97-464c-a87e-59d12ae2796e",
   "metadata": {},
   "outputs": [
    {
     "name": "stdout",
     "output_type": "stream",
     "text": [
      "[10 60]\n"
     ]
    }
   ],
   "source": [
    "# Create a 2D array\n",
    "arr = np.array([[10, 20, 30],\n",
    "                [40, 50, 60]])\n",
    "\n",
    "# Indices of the elements to take from each row\n",
    "indices = np.array([0, 2])\n",
    "\n",
    "# Take one element from each row using the specified indices\n",
    "result = np.take_along_axis(arr, indices[:, None], axis=1).flatten()\n",
    "\n",
    "print(result)"
   ]
  },
  {
   "cell_type": "code",
   "execution_count": 35,
   "id": "3a142b19-336f-4bad-baad-cb6d3a344ed3",
   "metadata": {},
   "outputs": [
    {
     "data": {
      "text/plain": [
       "array([[0],\n",
       "       [2]])"
      ]
     },
     "execution_count": 35,
     "metadata": {},
     "output_type": "execute_result"
    }
   ],
   "source": [
    "indices[:, None]"
   ]
  },
  {
   "cell_type": "code",
   "execution_count": 36,
   "id": "22c167c0-84ea-4b5d-be47-941391c64992",
   "metadata": {},
   "outputs": [
    {
     "data": {
      "text/plain": [
       "array([1, 1, 1])"
      ]
     },
     "execution_count": 36,
     "metadata": {},
     "output_type": "execute_result"
    }
   ],
   "source": [
    "np.argmax(arr, axis=0)"
   ]
  },
  {
   "cell_type": "code",
   "execution_count": 37,
   "id": "ad1642d7-e0ce-4854-9fbf-1fd8d48f5eef",
   "metadata": {},
   "outputs": [
    {
     "data": {
      "text/plain": [
       "array([2, 2])"
      ]
     },
     "execution_count": 37,
     "metadata": {},
     "output_type": "execute_result"
    }
   ],
   "source": [
    "np.argmax(arr, axis=1)"
   ]
  },
  {
   "cell_type": "code",
   "execution_count": 43,
   "id": "e1ce1682-3afd-475e-ab3c-281afb2da28d",
   "metadata": {},
   "outputs": [
    {
     "data": {
      "text/plain": [
       "array([0, 0, 0, 0, 0, 0, 0, 0, 1, 0])"
      ]
     },
     "execution_count": 43,
     "metadata": {},
     "output_type": "execute_result"
    }
   ],
   "source": [
    "np.random.binomial(1, 0.1, 10)"
   ]
  },
  {
   "cell_type": "code",
   "execution_count": 42,
   "id": "d24071c8-05be-489f-9ba1-1b1137a5442e",
   "metadata": {},
   "outputs": [
    {
     "data": {
      "text/plain": [
       "array([4, 2, 6])"
      ]
     },
     "execution_count": 42,
     "metadata": {},
     "output_type": "execute_result"
    }
   ],
   "source": [
    "a = np.array([1, 2, 3])\n",
    "b = np.array([4, 5, 6])\n",
    "coin = np.array([0, 1, 0])\n",
    "\n",
    "np.where(coin, a, b)"
   ]
  },
  {
   "cell_type": "code",
   "execution_count": 12,
   "id": "673acb0d-15b8-4aa1-81d7-cfff4e25fca5",
   "metadata": {},
   "outputs": [],
   "source": [
    "indices = np.array([1, 0])\n",
    "arr[np.arange(arr.shape[0]), indices] += 1\n"
   ]
  },
  {
   "cell_type": "code",
   "execution_count": 13,
   "id": "ac9d83ec-8281-4c5f-a6eb-9d1c259e18e2",
   "metadata": {},
   "outputs": [
    {
     "data": {
      "text/plain": [
       "array([[10, 21, 30],\n",
       "       [41, 50, 60]])"
      ]
     },
     "execution_count": 13,
     "metadata": {},
     "output_type": "execute_result"
    }
   ],
   "source": [
    "arr"
   ]
  },
  {
   "cell_type": "code",
   "execution_count": null,
   "id": "91adda2a-95ee-4905-8b00-0d97db55ef2a",
   "metadata": {},
   "outputs": [],
   "source": []
  }
 ],
 "metadata": {
  "kernelspec": {
   "display_name": "Python 3 (ipykernel)",
   "language": "python",
   "name": "python3"
  },
  "language_info": {
   "codemirror_mode": {
    "name": "ipython",
    "version": 3
   },
   "file_extension": ".py",
   "mimetype": "text/x-python",
   "name": "python",
   "nbconvert_exporter": "python",
   "pygments_lexer": "ipython3",
   "version": "3.11.10"
  }
 },
 "nbformat": 4,
 "nbformat_minor": 5
}
